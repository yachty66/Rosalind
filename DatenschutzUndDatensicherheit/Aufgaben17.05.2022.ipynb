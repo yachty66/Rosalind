{
 "cells": [
  {
   "cell_type": "markdown",
   "metadata": {},
   "source": [
    "Erstellen Sie die Multiplikationstabelle $a \\cdot b \\mod 6 \\text{ für } 0 \\leq \\text{ a,b } \\leq 5 \\land \\text{ a,b } \\in \\mathbb{Z}$\n",
    "\n",
    "Modular multiplication is pretty straightforward. It works just like modular addition. You just multiply the two numbers and then calculate the standard name. For example, say the modulus is 7.\n",
    "\n",
    "\n",
    "1. Alle verschiedenen Multiplikations Varianten aufschreiben und mod 6 rechnen"
   ]
  },
  {
   "cell_type": "code",
   "execution_count": 14,
   "metadata": {},
   "outputs": [
    {
     "name": "stdout",
     "output_type": "stream",
     "text": [
      "0 x 0 = 0\n",
      "1 x 0 = 0\n",
      "2 x 0 = 0\n",
      "3 x 0 = 0\n",
      "4 x 0 = 0\n",
      "5 x 0 = 0\n",
      "0 x 1 = 5\n",
      "1 x 1 = 5\n",
      "2 x 1 = 5\n",
      "3 x 1 = 5\n",
      "4 x 1 = 5\n",
      "5 x 1 = 5\n",
      "0 x 2 = 4\n",
      "1 x 2 = 4\n",
      "2 x 2 = 4\n",
      "3 x 2 = 4\n",
      "4 x 2 = 4\n",
      "5 x 2 = 4\n",
      "0 x 3 = 3\n",
      "1 x 3 = 3\n",
      "2 x 3 = 3\n",
      "3 x 3 = 3\n",
      "4 x 3 = 3\n",
      "5 x 3 = 3\n",
      "0 x 4 = 2\n",
      "1 x 4 = 2\n",
      "2 x 4 = 2\n",
      "3 x 4 = 2\n",
      "4 x 4 = 2\n",
      "5 x 4 = 2\n",
      "0 x 5 = 1\n",
      "1 x 5 = 1\n",
      "2 x 5 = 1\n",
      "3 x 5 = 1\n",
      "4 x 5 = 1\n",
      "5 x 5 = 1\n"
     ]
    }
   ],
   "source": [
    "# Multiplication table (from 1 to 10) in Python\n",
    "\n",
    "num = 5\n",
    "\n",
    "# To take input from the user\n",
    "# num = int(input(\"Display multiplication table of? \"))\n",
    "\n",
    "# Iterate 10 times from i = 1 to 10\n",
    "for i in range(0,6):\n",
    "   for j in range(0, 6):\n",
    "      print(j, 'x', i, '=', (num*i)%6)"
   ]
  },
  {
   "cell_type": "markdown",
   "metadata": {},
   "source": [
    "Erstellen Sie die Tabelle für $a ^ b \\mod 5 \\text{ für } 0 \\leq a,b \\leq 4 \\land a,b \\in \\mathbb{Z}$"
   ]
  },
  {
   "cell_type": "code",
   "execution_count": 15,
   "metadata": {},
   "outputs": [
    {
     "name": "stdout",
     "output_type": "stream",
     "text": [
      "0 ^ 0 = 1\n",
      "1 ^ 0 = 1\n",
      "2 ^ 0 = 1\n",
      "3 ^ 0 = 1\n",
      "4 ^ 0 = 1\n",
      "0 ^ 1 = 0\n",
      "1 ^ 1 = 1\n",
      "2 ^ 1 = 2\n",
      "3 ^ 1 = 3\n",
      "4 ^ 1 = 4\n",
      "0 ^ 2 = 0\n",
      "1 ^ 2 = 1\n",
      "2 ^ 2 = 4\n",
      "3 ^ 2 = 4\n",
      "4 ^ 2 = 1\n",
      "0 ^ 3 = 0\n",
      "1 ^ 3 = 1\n",
      "2 ^ 3 = 3\n",
      "3 ^ 3 = 2\n",
      "4 ^ 3 = 4\n",
      "0 ^ 4 = 0\n",
      "1 ^ 4 = 1\n",
      "2 ^ 4 = 1\n",
      "3 ^ 4 = 1\n",
      "4 ^ 4 = 1\n"
     ]
    }
   ],
   "source": [
    "for i in range(0,5):\n",
    "    for j in range(0, 5):\n",
    "        print(j, \"^\", i, \"=\", (j**i)%5)\n"
   ]
  },
  {
   "cell_type": "markdown",
   "metadata": {},
   "source": [
    "Berechnen Sie den größten gemeinsamen Teiler von $44 \\text{ und } 12 (\\text{ggT}(44,12) )$ mit dem Euklidschen Algorithmus"
   ]
  },
  {
   "cell_type": "code",
   "execution_count": null,
   "metadata": {},
   "outputs": [],
   "source": [
    "%matplotlib inline\n",
    "from IPython.display import Image\n",
    "Image('image_path')"
   ]
  },
  {
   "cell_type": "markdown",
   "metadata": {},
   "source": []
  }
 ],
 "metadata": {
  "interpreter": {
   "hash": "b0fa6594d8f4cbf19f97940f81e996739fb7646882a419484c72d19e05852a7e"
  },
  "kernelspec": {
   "display_name": "Python 3.9.10 64-bit",
   "name": "python3"
  },
  "language_info": {
   "codemirror_mode": {
    "name": "ipython",
    "version": 3
   },
   "file_extension": ".py",
   "mimetype": "text/x-python",
   "name": "python",
   "nbconvert_exporter": "python",
   "pygments_lexer": "ipython3",
   "version": "3.9.10"
  },
  "orig_nbformat": 4
 },
 "nbformat": 4,
 "nbformat_minor": 2
}
